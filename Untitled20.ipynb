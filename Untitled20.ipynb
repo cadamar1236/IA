{
  "nbformat": 4,
  "nbformat_minor": 0,
  "metadata": {
    "colab": {
      "provenance": [],
      "authorship_tag": "ABX9TyPXUWnvPErqz8BQ+a7tiVGm",
      "include_colab_link": true
    },
    "kernelspec": {
      "name": "python3",
      "display_name": "Python 3"
    },
    "language_info": {
      "name": "python"
    }
  },
  "cells": [
    {
      "cell_type": "markdown",
      "metadata": {
        "id": "view-in-github",
        "colab_type": "text"
      },
      "source": [
        "<a href=\"https://colab.research.google.com/github/cadamar1236/IA/blob/main/Untitled20.ipynb\" target=\"_parent\"><img src=\"https://colab.research.google.com/assets/colab-badge.svg\" alt=\"Open In Colab\"/></a>"
      ]
    },
    {
      "cell_type": "code",
      "execution_count": 2,
      "metadata": {
        "id": "ymJEPakP-cdH"
      },
      "outputs": [],
      "source": [
        "from elasticsearch import Elasticsearch, helpers\n",
        "\n",
        "# Conectar a Elastic Cloud\n",
        "es = Elasticsearch(\n",
        "    cloud_id=\"d52e70576fd94911aac60452a065994c:dXMtY2VudHJhbDEuZ2NwLmNsb3VkLmVzLmlvJGE3NmNkODg3ZTQ2YjQ4NDhhMmUzOTU3ZDg1NTE4ZGYzJGZhMWEzN2I2NmZlMTRlZWRhYTFmMjYzM2M5YWFmMGU5\",\n",
        "    basic_auth=(\"elastic\", \"GIi0VR7CEAXOykmYqS0PJfna\"))"
      ]
    },
    {
      "cell_type": "code",
      "source": [
        "from elasticsearch import Elasticsearch\n",
        "\n",
        "\n",
        "# Definir el índice\n",
        "INDEX_NAME = \"general_texts\"\n",
        "\n",
        "# Definir la especialidad a buscar\n",
        "directory_selected = \"SPÉCIALITÉ MATHÉMATIQUES\"\n",
        "\n",
        "# Definir y ejecutar la consulta con 'match'\n",
        "search_query_match = {\n",
        "    \"query\": {\n",
        "        \"match\": {\n",
        "            \"metadata.directory\": directory_selected\n",
        "        }\n",
        "    },\n",
        "    \"size\": 10  # Limitar el número de documentos a recuperar\n",
        "}\n",
        "\n",
        "response_match = es.search(index=INDEX_NAME, body=search_query_match)\n",
        "\n",
        "print(\"Resultados de la búsqueda con 'match':\")\n",
        "for hit in response_match['hits']['hits']:\n",
        "    print(hit['_source'])\n",
        "\n",
        "# Definir y ejecutar la consulta con 'wildcard'\n",
        "search_query_wildcard = {\n",
        "    \"query\": {\n",
        "        \"wildcard\": {\n",
        "            \"metadata.directory.keyword\": \"Spécialité Numérique et Sciences Informatiques Bac Général\"\n",
        "        }\n",
        "    },\n",
        "    \"size\": 10  # Limitar el número de documentos a recuperar\n",
        "}\n",
        "\n",
        "response_wildcard = es.search(index=INDEX_NAME, body=search_query_wildcard)\n",
        "\n",
        "print(\"\\nResultados de la búsqueda con 'wildcard':\")\n",
        "for hit in response_wildcard['hits']['hits']:\n",
        "    print(hit['_source'])\n",
        "\n",
        "# Definir y ejecutar la consulta con 'term'\n",
        "search_query_term = {\n",
        "    \"query\": {\n",
        "        \"term\": {\n",
        "            \"metadata.directory.keyword\": directory_selected\n",
        "        }\n",
        "    },\n",
        "    \"size\": 10  # Limitar el número de documentos a recuperar\n",
        "}\n",
        "\n",
        "response_term = es.search(index=INDEX_NAME, body=search_query_term)\n",
        "\n",
        "print(\"\\nResultados de la búsqueda con 'term':\")\n",
        "for hit in response_term['hits']['hits']:\n",
        "    print(hit['_source'])\n"
      ],
      "metadata": {
        "colab": {
          "base_uri": "https://localhost:8080/"
        },
        "id": "DE1WpWxv-ulS",
        "outputId": "171251dc-903b-4b00-df46-9ce9f734d92f"
      },
      "execution_count": 4,
      "outputs": [
        {
          "output_type": "stream",
          "name": "stdout",
          "text": [
            "Resultados de la búsqueda con 'match':\n",
            "{'content': \" \\n \\nPage 2 / 5  \\nExercice 1 (5  points)  \\n \\nCet exercice est un questionnaire à choix multiples. Pour chacune des questions suivantes, \\nune seule des quatre réponses proposées est exacte. Aucune justification n’est demandée.  \\nUne bonne réponse rapporte un point. Une mauvaise réponse, une réponse multiple ou \\nl’absence de réponse ne rapporte ni n’enlève aucun point.  \\nIndiq uer sur la copie le numéro de la question et la réponse correspondante . \\n \\n \\n1. Dans le plan rapporté à un repère orthonormé , on considère la droite D d'équation \\ncartésienne 4𝑥 + 5𝑦 – 7 = 0.  \\nUn vecteur normal à D a pour coordonnées  :  \\na. (5 ; 4)    b.  (−5 ; 4) \\nc.   (4 ; 5)     d.  (4 ; −5). \\n \\n2. Dans le plan rapporté à un repère orthonormé , l'ensemble E des points M de coordonnées \\n(𝑥 ; 𝑦) vérifiant  : 𝑥2 – 2𝑥 + 𝑦2 = 3  est un cercle  : \\na.  de centre A(1 ; 0) et de rayon 2.  b.  de centre A(1 ; 0) et de rayon 4. \\nc.   de centre A(−1 ; 0) et de rayon 2.  d.  de centre A(−1 ; 0) et de rayon 4. \\n  \\n3. La somme 15 + 16 + 17 + … + 243   est égale à  : \\na.  29 403    b. 29 412 \\nc.  29 541    d. 29 646 \\n \\n4. On considère la fonction 𝑓 dérivable  définie  sur ℝ par 𝑓 (𝑥)= (𝑥 + 1)e𝑥. \\nLa fonction dérivée 𝑓’ de 𝑓 est définie sur ℝ par : \\n \\na.  𝑓 ′(𝑥) = (𝑥 + 2)e𝑥   b.  𝑓 ′(𝑥) = (𝑥 + 1)e𝑥 \\nc.  𝑓 ′(𝑥) = 𝑥e𝑥    d.  𝑓 ′(𝑥) =e𝑥 \\n \\n \\n5. En utilisant l’arbre de probabilité pondéré ci-contre, on obtient  : \\nG1SSMAT02632\\nG1SSMAT02632G1SSMAT02632\", 'metadata': {'source': '/content/drive/My Drive/RAGfrances/SPÉCIALITÉ MATHÉMATIQUES/G1SSMAT02632-mathg-33311-1143 (1)_modified.pdf', 'page': 0, 'directory': 'SPÉCIALITÉ MATHÉMATIQUES'}}\n",
            "{'content': \" \\nPage 3 / 5 \\n   \\na. 𝑃 (𝐵) = 1\\n4 \\nb. 𝑃 (𝐵) = 2\\n5 \\nc. 𝑃 (𝐵) = 13\\n20 \\nd. 𝑃 (𝐵) = 3\\n10 \\n \\n \\nExercice 2 (5 points)  \\n \\nDans un repère orthonormé (O ; 𝑖⃗,𝑗⃗) du plan, on considère les points A (2 ; −1),\\nB (0 ; 3) et C (3 ; 1). \\n1.  a.  Vérifier que  AB⃗⃗⃗⃗⃗⃗.AC⃗⃗⃗⃗⃗⃗=6. \\nb. Calculer ||AB⃗⃗⃗⃗⃗⃗|| et ||AC⃗⃗⃗⃗⃗⃗||, on donnera les valeurs exactes.  \\nc.  Vérifier que cos(BAĈ)= 0,6 et en déduire la mesure de l'angle BAĈ au degré près.  \\n2. a.  Vérifier qu’une équation cartésienne de la droite (AB) est 2𝑥+𝑦−3=0. \\nb. On note H le pied la hauteur du triangle ABC  issue du sommet C.  \\nDéterminer les coordonnées du point H.  \\n \\n \\n  \\n3\\n4 \\n \\n1\\n4 \\n \\n3\\n5 \\n \\n1\\n3 \\n2\\n3 \\n \\n𝐵 \\n𝐵 \\n𝐵ത \\n𝐵ത \\n𝐴 \\n𝐴ҧ \\n2\\n5 \\n \\nG1SSMAT02632\\nG1SSMAT02632G1SSMAT02632\", 'metadata': {'source': '/content/drive/My Drive/RAGfrances/SPÉCIALITÉ MATHÉMATIQUES/G1SSMAT02632-mathg-33311-1143 (1)_modified.pdf', 'page': 1, 'directory': 'SPÉCIALITÉ MATHÉMATIQUES'}}\n",
            "{'content': ' \\n \\nPage 4 / 5  \\n \\nExercice 3 (5 points)  \\n \\nEn 1995 , le taux de scolarisation  des jeunes de 18 ans  atteignait 84,8 %, du fait d’une forte \\nprogression de la poursuite d’études dans le second cycle général et technologique jusqu’au \\nbaccalauréat.  \\nUne étude de l’INSEE montre que ce taux  de scolarisation a régulièrement diminué au cours \\ndes dix années suivantes.  \\n \\nOn considère que la diminution du taux de scolarisation à 18 ans est chaque année de 1 % à \\npartir de 1995.  \\n \\nPour tout entier naturel 𝑛, on modélise le taux de scolarisation des jeunes de 18 ans en \\n1995  + 𝑛,   par une suite (𝑢𝑛) ; ainsi 𝑢0=84,8. \\n \\n1. Quel es t le taux de scolarisation des jeunes âgés de 18 ans en 1996  ?  \\n2. Déterminer , en justifiant , la nature de la suite (𝑢𝑛).  \\n3. On donne le programme suivant en langage Python  :  \\n \\n  \\nDéterminer la valeur  numérique  que contient la variable n à l’issue de l’exécution du \\nprogramme . Interpréter cette valeur dans le contexte de l’énoncé.  \\n \\n4. Exprimer , pour tout entier naturel 𝑛,  𝑢𝑛  en fonction de 𝑛. \\n5. Quel est le taux de scolarisation des jeunes de 18 ans en 2005  ? \\n \\n \\n \\n \\n  U=84.8 \\nn=0  \\nwhile U > 80:  \\nU=0.99*U  \\n n=n+1 \\nG1SSMAT02632\\nG1SSMAT02632G1SSMAT02632', 'metadata': {'source': '/content/drive/My Drive/RAGfrances/SPÉCIALITÉ MATHÉMATIQUES/G1SSMAT02632-mathg-33311-1143 (1)_modified.pdf', 'page': 2, 'directory': 'SPÉCIALITÉ MATHÉMATIQUES'}}\n",
            "{'content': ' \\nPage 5 / 5 \\n   \\nExercice 4 (5 points)  \\n \\nSoit 𝑓  la fonction dérivable définie sur [−3 ; 3] par 𝑓(𝑥) = 2𝑥3 + 2𝑥² – 2𝑥 + 1. On note \\nC sa courbe représentative dans un repère donné.  \\n \\n1. Déterminer 𝑓′(𝑥), où 𝑓’ est la fonction dérivée  de 𝑓 sur [−3 ; 3]. \\n \\n2. Étudier le signe de   𝑓’(𝑥) sur [−3 ; 3]. \\n \\n3. Dresser  le tableau de variations de  𝑓  sur [−3 ; 3]. Les valeurs aux bornes pourront être \\ndonnées en valeur approchée à 10-2 près.  \\n \\n4.   \\na. Vérifier qu’une équation de la tangente T à la courbe C au point A d’abscisse 0, est  \\n𝑦=−2𝑥+1. \\nb. Montrer que cette tangente T passe par un point B de la courbe  C, avec B distinct du \\npoint A. \\n \\n \\nG1SSMAT02632\\nG1SSMAT02632G1SSMAT02632', 'metadata': {'source': '/content/drive/My Drive/RAGfrances/SPÉCIALITÉ MATHÉMATIQUES/G1SSMAT02632-mathg-33311-1143 (1)_modified.pdf', 'page': 3, 'directory': 'SPÉCIALITÉ MATHÉMATIQUES'}}\n",
            "{'content': \" \\n \\nPage 2 / 5  \\nExercice 1 (5  points)  \\n \\nCet exercice est un questionnaire à choix multiples. Pour chacune des questions suivantes, \\nune seule des quatre réponses proposées est exacte. Aucune justification n’est demandée.  \\nUne bonne réponse rapporte un point. Une mauvaise réponse, une réponse multiple ou \\nl’absence de réponse ne rapporte ni n’enlève aucun point.  \\nIndiq uer sur la copie le numéro de la question et la réponse correspondante . \\n \\n \\n1. Dans le plan rapporté à un repère orthonormé , on considère la droite D d'équation \\ncartésienne 4𝑥 + 5𝑦 – 7 = 0.  \\nUn vecteur normal à D a pour coordonnées  :  \\na. (5 ; 4)    b.  (−5 ; 4) \\nc.   (4 ; 5)     d.  (4 ; −5). \\n \\n2. Dans le plan rapporté à un repère orthonormé , l'ensemble E des points M de coordonnées \\n(𝑥 ; 𝑦) vérifiant  : 𝑥2 – 2𝑥 + 𝑦2 = 3  est un cercle  : \\na.  de centre A(1 ; 0) et de rayon 2.  b.  de centre A(1 ; 0) et de rayon 4. \\nc.   de centre A(−1 ; 0) et de rayon 2.  d.  de centre A(−1 ; 0) et de rayon 4. \\n  \\n3. La somme 15 + 16 + 17 + … + 243   est égale à  : \\na.  29 403    b. 29 412 \\nc.  29 541    d. 29 646 \\n \\n4. On considère la fonction 𝑓 dérivable  définie  sur ℝ par 𝑓 (𝑥)= (𝑥 + 1)e𝑥. \\nLa fonction dérivée 𝑓’ de 𝑓 est définie sur ℝ par : \\n \\na.  𝑓 ′(𝑥) = (𝑥 + 2)e𝑥   b.  𝑓 ′(𝑥) = (𝑥 + 1)e𝑥 \\nc.  𝑓 ′(𝑥) = 𝑥e𝑥    d.  𝑓 ′(𝑥) =e𝑥 \\n \\n \\n5. En utilisant l’arbre de probabilité pondéré ci-contre, on obtient  : \\nG1SSMAT02632\\nG1SSMAT02632G1SSMAT02632\", 'metadata': {'source': '/content/drive/My Drive/RAGfrances/SPÉCIALITÉ MATHÉMATIQUES/G1SSMAT02632-mathg-33311-1143 (2)_modified.pdf', 'page': 0, 'directory': 'SPÉCIALITÉ MATHÉMATIQUES'}}\n",
            "{'content': \" \\nPage 3 / 5 \\n   \\na. 𝑃 (𝐵) = 1\\n4 \\nb. 𝑃 (𝐵) = 2\\n5 \\nc. 𝑃 (𝐵) = 13\\n20 \\nd. 𝑃 (𝐵) = 3\\n10 \\n \\n \\nExercice 2 (5 points)  \\n \\nDans un repère orthonormé (O ; 𝑖⃗,𝑗⃗) du plan, on considère les points A (2 ; −1),\\nB (0 ; 3) et C (3 ; 1). \\n1.  a.  Vérifier que  AB⃗⃗⃗⃗⃗⃗.AC⃗⃗⃗⃗⃗⃗=6. \\nb. Calculer ||AB⃗⃗⃗⃗⃗⃗|| et ||AC⃗⃗⃗⃗⃗⃗||, on donnera les valeurs exactes.  \\nc.  Vérifier que cos(BAĈ)= 0,6 et en déduire la mesure de l'angle BAĈ au degré près.  \\n2. a.  Vérifier qu’une équation cartésienne de la droite (AB) est 2𝑥+𝑦−3=0. \\nb. On note H le pied la hauteur du triangle ABC  issue du sommet C.  \\nDéterminer les coordonnées du point H.  \\n \\n \\n  \\n3\\n4 \\n \\n1\\n4 \\n \\n3\\n5 \\n \\n1\\n3 \\n2\\n3 \\n \\n𝐵 \\n𝐵 \\n𝐵ത \\n𝐵ത \\n𝐴 \\n𝐴ҧ \\n2\\n5 \\n \\nG1SSMAT02632\\nG1SSMAT02632G1SSMAT02632\", 'metadata': {'source': '/content/drive/My Drive/RAGfrances/SPÉCIALITÉ MATHÉMATIQUES/G1SSMAT02632-mathg-33311-1143 (2)_modified.pdf', 'page': 1, 'directory': 'SPÉCIALITÉ MATHÉMATIQUES'}}\n",
            "{'content': ' \\n \\nPage 4 / 5  \\n \\nExercice 3 (5 points)  \\n \\nEn 1995 , le taux de scolarisation  des jeunes de 18 ans  atteignait 84,8 %, du fait d’une forte \\nprogression de la poursuite d’études dans le second cycle général et technologique jusqu’au \\nbaccalauréat.  \\nUne étude de l’INSEE montre que ce taux  de scolarisation a régulièrement diminué au cours \\ndes dix années suivantes.  \\n \\nOn considère que la diminution du taux de scolarisation à 18 ans est chaque année de 1 % à \\npartir de 1995.  \\n \\nPour tout entier naturel 𝑛, on modélise le taux de scolarisation des jeunes de 18 ans en \\n1995  + 𝑛,   par une suite (𝑢𝑛) ; ainsi 𝑢0=84,8. \\n \\n1. Quel es t le taux de scolarisation des jeunes âgés de 18 ans en 1996  ?  \\n2. Déterminer , en justifiant , la nature de la suite (𝑢𝑛).  \\n3. On donne le programme suivant en langage Python  :  \\n \\n  \\nDéterminer la valeur  numérique  que contient la variable n à l’issue de l’exécution du \\nprogramme . Interpréter cette valeur dans le contexte de l’énoncé.  \\n \\n4. Exprimer , pour tout entier naturel 𝑛,  𝑢𝑛  en fonction de 𝑛. \\n5. Quel est le taux de scolarisation des jeunes de 18 ans en 2005  ? \\n \\n \\n \\n \\n  U=84.8 \\nn=0  \\nwhile U > 80:  \\nU=0.99*U  \\n n=n+1 \\nG1SSMAT02632\\nG1SSMAT02632G1SSMAT02632', 'metadata': {'source': '/content/drive/My Drive/RAGfrances/SPÉCIALITÉ MATHÉMATIQUES/G1SSMAT02632-mathg-33311-1143 (2)_modified.pdf', 'page': 2, 'directory': 'SPÉCIALITÉ MATHÉMATIQUES'}}\n",
            "{'content': ' \\nPage 5 / 5 \\n   \\nExercice 4 (5 points)  \\n \\nSoit 𝑓  la fonction dérivable définie sur [−3 ; 3] par 𝑓(𝑥) = 2𝑥3 + 2𝑥² – 2𝑥 + 1. On note \\nC sa courbe représentative dans un repère donné.  \\n \\n1. Déterminer 𝑓′(𝑥), où 𝑓’ est la fonction dérivée  de 𝑓 sur [−3 ; 3]. \\n \\n2. Étudier le signe de   𝑓’(𝑥) sur [−3 ; 3]. \\n \\n3. Dresser  le tableau de variations de  𝑓  sur [−3 ; 3]. Les valeurs aux bornes pourront être \\ndonnées en valeur approchée à 10-2 près.  \\n \\n4.   \\na. Vérifier qu’une équation de la tangente T à la courbe C au point A d’abscisse 0, est  \\n𝑦=−2𝑥+1. \\nb. Montrer que cette tangente T passe par un point B de la courbe  C, avec B distinct du \\npoint A. \\n \\n \\nG1SSMAT02632\\nG1SSMAT02632G1SSMAT02632', 'metadata': {'source': '/content/drive/My Drive/RAGfrances/SPÉCIALITÉ MATHÉMATIQUES/G1SSMAT02632-mathg-33311-1143 (2)_modified.pdf', 'page': 3, 'directory': 'SPÉCIALITÉ MATHÉMATIQUES'}}\n",
            "{'content': \" \\nPage 2 sur 5 \\n Exercice 1 (5  points)  \\n \\nCe QCM comprend 5 questions indépendantes.  Pour chacune d’elles , une seule des réponses \\nproposées est exacte . \\nIndiquer pour chaque question sur la copie  la lettre correspondant à la réponse choisie . \\nAucune justification n’est demandée.  \\nChaque réponse correcte rapporte 1 point. Une réponse incorrecte ou une absence de  \\nréponse n’apporte ni ne retire de point . \\n \\n1. Pour tout réel 𝑥,sin\\u2061(7π−𝑥\\u2061) est égal à :  \\na) sin𝑥 b) −\\u2061sin𝑥 c) cos𝑥 d) −cos𝑥 \\n \\n2. Dans laquelle des quatre situations proposées ci -dessous le produit scalaire  𝐴𝐵⃗⃗⃗⃗⃗ \\u2061∙𝐴𝐶⃗⃗⃗⃗⃗   est-\\nil égal à 6 ?  \\na) ABC  est un \\ntriangle tel que  : \\n𝐴𝐵=6, 𝐴𝐶=4 et \\n𝐵𝐶=8. b) Dans un repère  \\northonormé du plan :  \\n𝐴(−3;5), 𝐵(2;−2) \\net 𝐶(1;7). \\n c) ABC  est un \\ntriangle rectangle en \\nB tel que  :  \\n 𝐴𝐵=3 et =2 . d) ABC  est un \\ntriangle tel que  : \\n  𝐴𝐵=6, 𝐴𝐶=4 \\n     et 𝐵𝐴𝐶̂=30° . \\n \\n3. On considère la fonction 𝑓 définie sur R par : 𝑓(𝑥)=3𝑥+4\\n𝑥2+1 . \\n𝑓 est dérivable sur R et, pour tout réel 𝑥,\\u2061 𝑓′(𝑥) est égal à  :  \\na) 3\\n2𝑥 b) 9𝑥2+8𝑥+3\\n(𝑥2+1)² c) −3𝑥2−8𝑥+3\\n(𝑥2+1)² d) 9𝑥2+8𝑥+3 \\n \\n4. Le plan est rapporté à un repère orthonormé.  \\nL'ensemble des points 𝑀(𝑥\\u2061;𝑦) tels que 𝑥²+𝑦²−10𝑥+6𝑦+30=0 est :  \\na) une droite b) une parabole c) un cercle d) ni une droite, ni une \\nparabole, ni un cercle. \\n \\n5. La somme 1+5+52+\\u206153+\\u2061…+530 est égale à :  \\na) 1\\u2061−\\u2061530\\n4\\u2061 b) 530−\\u20611\\n4 c) 1\\u2061−\\u2061531\\n4 d) 531−\\u20611\\n4 \\n \\n  \\nG1SSMAT02636\\nG1SSMAT02636G1SSMAT02636\", 'metadata': {'source': '/content/drive/My Drive/RAGfrances/SPÉCIALITÉ MATHÉMATIQUES/G1SSMAT02636-mathg-35311-1058 (1)_modified.pdf', 'page': 0, 'directory': 'SPÉCIALITÉ MATHÉMATIQUES'}}\n",
            "{'content': \" \\nPage 3 sur 5 \\n  \\nExercice 2 (5 points)  \\n \\nUne enquête a été réalisée auprès des élèves d'un lycée afin de connaître leur point de vue \\nsur la durée de la pause méridienne et  sur les rythmes scolaires.  \\n \\nL'enquête révèle que 55 % des élèves sont favorables à une pause méridienne plus longue.  \\n \\nParmi ceux qui sont favorables  à une pause méridienne  plus lo ngue, 95 % souhaitent une \\nrépartition des cours plus étalée sur l'année scolaire.  \\n \\nParmi ceux qui ne sont pas favorables à une  pause méridienne  plus longue, seulement 10 % \\nsouhaitent une répartition des cours plus étalée sur l'année scolaire.  \\n \\nOn tire  au hasard le nom d’un élève du lycée.  \\nOn considère les évé nements suivants :  \\n\\uf0b7 𝐿 : « L'élève concerné est favorable à une pause méridienne plus longue.  » \\n\\uf0b7 𝐶\\u2061: « L'élève concerné  souhaite une répartition des cours plus étalée sur l'année \\nscolaire . ».  \\n \\n1. Recopier et compléter l' arbre pondéré ci-dessous décrivant la situation.  \\n \\n \\n \\n2. Calculer la  probabilité que l'élève concerné soit favorable à une pause méridienne plus \\nlongu e et souhaite une répartition des cours plus étalée sur l'année scolaire.  \\n \\n3. Montrer que  𝑃(𝐶)=0,5675 . \\n \\n4. Calculer la  probabilité que l'élève concerné soit favorable à une p ause méridienne plus \\nlongue sachant qu'il souhaite une répartition des cours plus étalée sur l'année scolaire.  \\nEn donner une valeur arrondie à  10−4. \\n \\n5. Les événements 𝐿 et 𝐶 sont -ils indépendants ? Justifier la réponse.  \\nG1SSMAT02636\\nG1SSMAT02636G1SSMAT02636\", 'metadata': {'source': '/content/drive/My Drive/RAGfrances/SPÉCIALITÉ MATHÉMATIQUES/G1SSMAT02636-mathg-35311-1058 (1)_modified.pdf', 'page': 1, 'directory': 'SPÉCIALITÉ MATHÉMATIQUES'}}\n",
            "\n",
            "Resultados de la búsqueda con 'wildcard':\n",
            "\n",
            "Resultados de la búsqueda con 'term':\n",
            "{'content': \" \\n \\nPage 2 / 5  \\nExercice 1 (5  points)  \\n \\nCet exercice est un questionnaire à choix multiples. Pour chacune des questions suivantes, \\nune seule des quatre réponses proposées est exacte. Aucune justification n’est demandée.  \\nUne bonne réponse rapporte un point. Une mauvaise réponse, une réponse multiple ou \\nl’absence de réponse ne rapporte ni n’enlève aucun point.  \\nIndiq uer sur la copie le numéro de la question et la réponse correspondante . \\n \\n \\n1. Dans le plan rapporté à un repère orthonormé , on considère la droite D d'équation \\ncartésienne 4𝑥 + 5𝑦 – 7 = 0.  \\nUn vecteur normal à D a pour coordonnées  :  \\na. (5 ; 4)    b.  (−5 ; 4) \\nc.   (4 ; 5)     d.  (4 ; −5). \\n \\n2. Dans le plan rapporté à un repère orthonormé , l'ensemble E des points M de coordonnées \\n(𝑥 ; 𝑦) vérifiant  : 𝑥2 – 2𝑥 + 𝑦2 = 3  est un cercle  : \\na.  de centre A(1 ; 0) et de rayon 2.  b.  de centre A(1 ; 0) et de rayon 4. \\nc.   de centre A(−1 ; 0) et de rayon 2.  d.  de centre A(−1 ; 0) et de rayon 4. \\n  \\n3. La somme 15 + 16 + 17 + … + 243   est égale à  : \\na.  29 403    b. 29 412 \\nc.  29 541    d. 29 646 \\n \\n4. On considère la fonction 𝑓 dérivable  définie  sur ℝ par 𝑓 (𝑥)= (𝑥 + 1)e𝑥. \\nLa fonction dérivée 𝑓’ de 𝑓 est définie sur ℝ par : \\n \\na.  𝑓 ′(𝑥) = (𝑥 + 2)e𝑥   b.  𝑓 ′(𝑥) = (𝑥 + 1)e𝑥 \\nc.  𝑓 ′(𝑥) = 𝑥e𝑥    d.  𝑓 ′(𝑥) =e𝑥 \\n \\n \\n5. En utilisant l’arbre de probabilité pondéré ci-contre, on obtient  : \\nG1SSMAT02632\\nG1SSMAT02632G1SSMAT02632\", 'metadata': {'source': '/content/drive/My Drive/RAGfrances/SPÉCIALITÉ MATHÉMATIQUES/G1SSMAT02632-mathg-33311-1143 (1)_modified.pdf', 'page': 0, 'directory': 'SPÉCIALITÉ MATHÉMATIQUES'}}\n",
            "{'content': \" \\nPage 3 / 5 \\n   \\na. 𝑃 (𝐵) = 1\\n4 \\nb. 𝑃 (𝐵) = 2\\n5 \\nc. 𝑃 (𝐵) = 13\\n20 \\nd. 𝑃 (𝐵) = 3\\n10 \\n \\n \\nExercice 2 (5 points)  \\n \\nDans un repère orthonormé (O ; 𝑖⃗,𝑗⃗) du plan, on considère les points A (2 ; −1),\\nB (0 ; 3) et C (3 ; 1). \\n1.  a.  Vérifier que  AB⃗⃗⃗⃗⃗⃗.AC⃗⃗⃗⃗⃗⃗=6. \\nb. Calculer ||AB⃗⃗⃗⃗⃗⃗|| et ||AC⃗⃗⃗⃗⃗⃗||, on donnera les valeurs exactes.  \\nc.  Vérifier que cos(BAĈ)= 0,6 et en déduire la mesure de l'angle BAĈ au degré près.  \\n2. a.  Vérifier qu’une équation cartésienne de la droite (AB) est 2𝑥+𝑦−3=0. \\nb. On note H le pied la hauteur du triangle ABC  issue du sommet C.  \\nDéterminer les coordonnées du point H.  \\n \\n \\n  \\n3\\n4 \\n \\n1\\n4 \\n \\n3\\n5 \\n \\n1\\n3 \\n2\\n3 \\n \\n𝐵 \\n𝐵 \\n𝐵ത \\n𝐵ത \\n𝐴 \\n𝐴ҧ \\n2\\n5 \\n \\nG1SSMAT02632\\nG1SSMAT02632G1SSMAT02632\", 'metadata': {'source': '/content/drive/My Drive/RAGfrances/SPÉCIALITÉ MATHÉMATIQUES/G1SSMAT02632-mathg-33311-1143 (1)_modified.pdf', 'page': 1, 'directory': 'SPÉCIALITÉ MATHÉMATIQUES'}}\n",
            "{'content': ' \\n \\nPage 4 / 5  \\n \\nExercice 3 (5 points)  \\n \\nEn 1995 , le taux de scolarisation  des jeunes de 18 ans  atteignait 84,8 %, du fait d’une forte \\nprogression de la poursuite d’études dans le second cycle général et technologique jusqu’au \\nbaccalauréat.  \\nUne étude de l’INSEE montre que ce taux  de scolarisation a régulièrement diminué au cours \\ndes dix années suivantes.  \\n \\nOn considère que la diminution du taux de scolarisation à 18 ans est chaque année de 1 % à \\npartir de 1995.  \\n \\nPour tout entier naturel 𝑛, on modélise le taux de scolarisation des jeunes de 18 ans en \\n1995  + 𝑛,   par une suite (𝑢𝑛) ; ainsi 𝑢0=84,8. \\n \\n1. Quel es t le taux de scolarisation des jeunes âgés de 18 ans en 1996  ?  \\n2. Déterminer , en justifiant , la nature de la suite (𝑢𝑛).  \\n3. On donne le programme suivant en langage Python  :  \\n \\n  \\nDéterminer la valeur  numérique  que contient la variable n à l’issue de l’exécution du \\nprogramme . Interpréter cette valeur dans le contexte de l’énoncé.  \\n \\n4. Exprimer , pour tout entier naturel 𝑛,  𝑢𝑛  en fonction de 𝑛. \\n5. Quel est le taux de scolarisation des jeunes de 18 ans en 2005  ? \\n \\n \\n \\n \\n  U=84.8 \\nn=0  \\nwhile U > 80:  \\nU=0.99*U  \\n n=n+1 \\nG1SSMAT02632\\nG1SSMAT02632G1SSMAT02632', 'metadata': {'source': '/content/drive/My Drive/RAGfrances/SPÉCIALITÉ MATHÉMATIQUES/G1SSMAT02632-mathg-33311-1143 (1)_modified.pdf', 'page': 2, 'directory': 'SPÉCIALITÉ MATHÉMATIQUES'}}\n",
            "{'content': ' \\nPage 5 / 5 \\n   \\nExercice 4 (5 points)  \\n \\nSoit 𝑓  la fonction dérivable définie sur [−3 ; 3] par 𝑓(𝑥) = 2𝑥3 + 2𝑥² – 2𝑥 + 1. On note \\nC sa courbe représentative dans un repère donné.  \\n \\n1. Déterminer 𝑓′(𝑥), où 𝑓’ est la fonction dérivée  de 𝑓 sur [−3 ; 3]. \\n \\n2. Étudier le signe de   𝑓’(𝑥) sur [−3 ; 3]. \\n \\n3. Dresser  le tableau de variations de  𝑓  sur [−3 ; 3]. Les valeurs aux bornes pourront être \\ndonnées en valeur approchée à 10-2 près.  \\n \\n4.   \\na. Vérifier qu’une équation de la tangente T à la courbe C au point A d’abscisse 0, est  \\n𝑦=−2𝑥+1. \\nb. Montrer que cette tangente T passe par un point B de la courbe  C, avec B distinct du \\npoint A. \\n \\n \\nG1SSMAT02632\\nG1SSMAT02632G1SSMAT02632', 'metadata': {'source': '/content/drive/My Drive/RAGfrances/SPÉCIALITÉ MATHÉMATIQUES/G1SSMAT02632-mathg-33311-1143 (1)_modified.pdf', 'page': 3, 'directory': 'SPÉCIALITÉ MATHÉMATIQUES'}}\n",
            "{'content': \" \\n \\nPage 2 / 5  \\nExercice 1 (5  points)  \\n \\nCet exercice est un questionnaire à choix multiples. Pour chacune des questions suivantes, \\nune seule des quatre réponses proposées est exacte. Aucune justification n’est demandée.  \\nUne bonne réponse rapporte un point. Une mauvaise réponse, une réponse multiple ou \\nl’absence de réponse ne rapporte ni n’enlève aucun point.  \\nIndiq uer sur la copie le numéro de la question et la réponse correspondante . \\n \\n \\n1. Dans le plan rapporté à un repère orthonormé , on considère la droite D d'équation \\ncartésienne 4𝑥 + 5𝑦 – 7 = 0.  \\nUn vecteur normal à D a pour coordonnées  :  \\na. (5 ; 4)    b.  (−5 ; 4) \\nc.   (4 ; 5)     d.  (4 ; −5). \\n \\n2. Dans le plan rapporté à un repère orthonormé , l'ensemble E des points M de coordonnées \\n(𝑥 ; 𝑦) vérifiant  : 𝑥2 – 2𝑥 + 𝑦2 = 3  est un cercle  : \\na.  de centre A(1 ; 0) et de rayon 2.  b.  de centre A(1 ; 0) et de rayon 4. \\nc.   de centre A(−1 ; 0) et de rayon 2.  d.  de centre A(−1 ; 0) et de rayon 4. \\n  \\n3. La somme 15 + 16 + 17 + … + 243   est égale à  : \\na.  29 403    b. 29 412 \\nc.  29 541    d. 29 646 \\n \\n4. On considère la fonction 𝑓 dérivable  définie  sur ℝ par 𝑓 (𝑥)= (𝑥 + 1)e𝑥. \\nLa fonction dérivée 𝑓’ de 𝑓 est définie sur ℝ par : \\n \\na.  𝑓 ′(𝑥) = (𝑥 + 2)e𝑥   b.  𝑓 ′(𝑥) = (𝑥 + 1)e𝑥 \\nc.  𝑓 ′(𝑥) = 𝑥e𝑥    d.  𝑓 ′(𝑥) =e𝑥 \\n \\n \\n5. En utilisant l’arbre de probabilité pondéré ci-contre, on obtient  : \\nG1SSMAT02632\\nG1SSMAT02632G1SSMAT02632\", 'metadata': {'source': '/content/drive/My Drive/RAGfrances/SPÉCIALITÉ MATHÉMATIQUES/G1SSMAT02632-mathg-33311-1143 (2)_modified.pdf', 'page': 0, 'directory': 'SPÉCIALITÉ MATHÉMATIQUES'}}\n",
            "{'content': \" \\nPage 3 / 5 \\n   \\na. 𝑃 (𝐵) = 1\\n4 \\nb. 𝑃 (𝐵) = 2\\n5 \\nc. 𝑃 (𝐵) = 13\\n20 \\nd. 𝑃 (𝐵) = 3\\n10 \\n \\n \\nExercice 2 (5 points)  \\n \\nDans un repère orthonormé (O ; 𝑖⃗,𝑗⃗) du plan, on considère les points A (2 ; −1),\\nB (0 ; 3) et C (3 ; 1). \\n1.  a.  Vérifier que  AB⃗⃗⃗⃗⃗⃗.AC⃗⃗⃗⃗⃗⃗=6. \\nb. Calculer ||AB⃗⃗⃗⃗⃗⃗|| et ||AC⃗⃗⃗⃗⃗⃗||, on donnera les valeurs exactes.  \\nc.  Vérifier que cos(BAĈ)= 0,6 et en déduire la mesure de l'angle BAĈ au degré près.  \\n2. a.  Vérifier qu’une équation cartésienne de la droite (AB) est 2𝑥+𝑦−3=0. \\nb. On note H le pied la hauteur du triangle ABC  issue du sommet C.  \\nDéterminer les coordonnées du point H.  \\n \\n \\n  \\n3\\n4 \\n \\n1\\n4 \\n \\n3\\n5 \\n \\n1\\n3 \\n2\\n3 \\n \\n𝐵 \\n𝐵 \\n𝐵ത \\n𝐵ത \\n𝐴 \\n𝐴ҧ \\n2\\n5 \\n \\nG1SSMAT02632\\nG1SSMAT02632G1SSMAT02632\", 'metadata': {'source': '/content/drive/My Drive/RAGfrances/SPÉCIALITÉ MATHÉMATIQUES/G1SSMAT02632-mathg-33311-1143 (2)_modified.pdf', 'page': 1, 'directory': 'SPÉCIALITÉ MATHÉMATIQUES'}}\n",
            "{'content': ' \\n \\nPage 4 / 5  \\n \\nExercice 3 (5 points)  \\n \\nEn 1995 , le taux de scolarisation  des jeunes de 18 ans  atteignait 84,8 %, du fait d’une forte \\nprogression de la poursuite d’études dans le second cycle général et technologique jusqu’au \\nbaccalauréat.  \\nUne étude de l’INSEE montre que ce taux  de scolarisation a régulièrement diminué au cours \\ndes dix années suivantes.  \\n \\nOn considère que la diminution du taux de scolarisation à 18 ans est chaque année de 1 % à \\npartir de 1995.  \\n \\nPour tout entier naturel 𝑛, on modélise le taux de scolarisation des jeunes de 18 ans en \\n1995  + 𝑛,   par une suite (𝑢𝑛) ; ainsi 𝑢0=84,8. \\n \\n1. Quel es t le taux de scolarisation des jeunes âgés de 18 ans en 1996  ?  \\n2. Déterminer , en justifiant , la nature de la suite (𝑢𝑛).  \\n3. On donne le programme suivant en langage Python  :  \\n \\n  \\nDéterminer la valeur  numérique  que contient la variable n à l’issue de l’exécution du \\nprogramme . Interpréter cette valeur dans le contexte de l’énoncé.  \\n \\n4. Exprimer , pour tout entier naturel 𝑛,  𝑢𝑛  en fonction de 𝑛. \\n5. Quel est le taux de scolarisation des jeunes de 18 ans en 2005  ? \\n \\n \\n \\n \\n  U=84.8 \\nn=0  \\nwhile U > 80:  \\nU=0.99*U  \\n n=n+1 \\nG1SSMAT02632\\nG1SSMAT02632G1SSMAT02632', 'metadata': {'source': '/content/drive/My Drive/RAGfrances/SPÉCIALITÉ MATHÉMATIQUES/G1SSMAT02632-mathg-33311-1143 (2)_modified.pdf', 'page': 2, 'directory': 'SPÉCIALITÉ MATHÉMATIQUES'}}\n",
            "{'content': ' \\nPage 5 / 5 \\n   \\nExercice 4 (5 points)  \\n \\nSoit 𝑓  la fonction dérivable définie sur [−3 ; 3] par 𝑓(𝑥) = 2𝑥3 + 2𝑥² – 2𝑥 + 1. On note \\nC sa courbe représentative dans un repère donné.  \\n \\n1. Déterminer 𝑓′(𝑥), où 𝑓’ est la fonction dérivée  de 𝑓 sur [−3 ; 3]. \\n \\n2. Étudier le signe de   𝑓’(𝑥) sur [−3 ; 3]. \\n \\n3. Dresser  le tableau de variations de  𝑓  sur [−3 ; 3]. Les valeurs aux bornes pourront être \\ndonnées en valeur approchée à 10-2 près.  \\n \\n4.   \\na. Vérifier qu’une équation de la tangente T à la courbe C au point A d’abscisse 0, est  \\n𝑦=−2𝑥+1. \\nb. Montrer que cette tangente T passe par un point B de la courbe  C, avec B distinct du \\npoint A. \\n \\n \\nG1SSMAT02632\\nG1SSMAT02632G1SSMAT02632', 'metadata': {'source': '/content/drive/My Drive/RAGfrances/SPÉCIALITÉ MATHÉMATIQUES/G1SSMAT02632-mathg-33311-1143 (2)_modified.pdf', 'page': 3, 'directory': 'SPÉCIALITÉ MATHÉMATIQUES'}}\n",
            "{'content': \" \\nPage 2 sur 5 \\n Exercice 1 (5  points)  \\n \\nCe QCM comprend 5 questions indépendantes.  Pour chacune d’elles , une seule des réponses \\nproposées est exacte . \\nIndiquer pour chaque question sur la copie  la lettre correspondant à la réponse choisie . \\nAucune justification n’est demandée.  \\nChaque réponse correcte rapporte 1 point. Une réponse incorrecte ou une absence de  \\nréponse n’apporte ni ne retire de point . \\n \\n1. Pour tout réel 𝑥,sin\\u2061(7π−𝑥\\u2061) est égal à :  \\na) sin𝑥 b) −\\u2061sin𝑥 c) cos𝑥 d) −cos𝑥 \\n \\n2. Dans laquelle des quatre situations proposées ci -dessous le produit scalaire  𝐴𝐵⃗⃗⃗⃗⃗ \\u2061∙𝐴𝐶⃗⃗⃗⃗⃗   est-\\nil égal à 6 ?  \\na) ABC  est un \\ntriangle tel que  : \\n𝐴𝐵=6, 𝐴𝐶=4 et \\n𝐵𝐶=8. b) Dans un repère  \\northonormé du plan :  \\n𝐴(−3;5), 𝐵(2;−2) \\net 𝐶(1;7). \\n c) ABC  est un \\ntriangle rectangle en \\nB tel que  :  \\n 𝐴𝐵=3 et =2 . d) ABC  est un \\ntriangle tel que  : \\n  𝐴𝐵=6, 𝐴𝐶=4 \\n     et 𝐵𝐴𝐶̂=30° . \\n \\n3. On considère la fonction 𝑓 définie sur R par : 𝑓(𝑥)=3𝑥+4\\n𝑥2+1 . \\n𝑓 est dérivable sur R et, pour tout réel 𝑥,\\u2061 𝑓′(𝑥) est égal à  :  \\na) 3\\n2𝑥 b) 9𝑥2+8𝑥+3\\n(𝑥2+1)² c) −3𝑥2−8𝑥+3\\n(𝑥2+1)² d) 9𝑥2+8𝑥+3 \\n \\n4. Le plan est rapporté à un repère orthonormé.  \\nL'ensemble des points 𝑀(𝑥\\u2061;𝑦) tels que 𝑥²+𝑦²−10𝑥+6𝑦+30=0 est :  \\na) une droite b) une parabole c) un cercle d) ni une droite, ni une \\nparabole, ni un cercle. \\n \\n5. La somme 1+5+52+\\u206153+\\u2061…+530 est égale à :  \\na) 1\\u2061−\\u2061530\\n4\\u2061 b) 530−\\u20611\\n4 c) 1\\u2061−\\u2061531\\n4 d) 531−\\u20611\\n4 \\n \\n  \\nG1SSMAT02636\\nG1SSMAT02636G1SSMAT02636\", 'metadata': {'source': '/content/drive/My Drive/RAGfrances/SPÉCIALITÉ MATHÉMATIQUES/G1SSMAT02636-mathg-35311-1058 (1)_modified.pdf', 'page': 0, 'directory': 'SPÉCIALITÉ MATHÉMATIQUES'}}\n",
            "{'content': \" \\nPage 3 sur 5 \\n  \\nExercice 2 (5 points)  \\n \\nUne enquête a été réalisée auprès des élèves d'un lycée afin de connaître leur point de vue \\nsur la durée de la pause méridienne et  sur les rythmes scolaires.  \\n \\nL'enquête révèle que 55 % des élèves sont favorables à une pause méridienne plus longue.  \\n \\nParmi ceux qui sont favorables  à une pause méridienne  plus lo ngue, 95 % souhaitent une \\nrépartition des cours plus étalée sur l'année scolaire.  \\n \\nParmi ceux qui ne sont pas favorables à une  pause méridienne  plus longue, seulement 10 % \\nsouhaitent une répartition des cours plus étalée sur l'année scolaire.  \\n \\nOn tire  au hasard le nom d’un élève du lycée.  \\nOn considère les évé nements suivants :  \\n\\uf0b7 𝐿 : « L'élève concerné est favorable à une pause méridienne plus longue.  » \\n\\uf0b7 𝐶\\u2061: « L'élève concerné  souhaite une répartition des cours plus étalée sur l'année \\nscolaire . ».  \\n \\n1. Recopier et compléter l' arbre pondéré ci-dessous décrivant la situation.  \\n \\n \\n \\n2. Calculer la  probabilité que l'élève concerné soit favorable à une pause méridienne plus \\nlongu e et souhaite une répartition des cours plus étalée sur l'année scolaire.  \\n \\n3. Montrer que  𝑃(𝐶)=0,5675 . \\n \\n4. Calculer la  probabilité que l'élève concerné soit favorable à une p ause méridienne plus \\nlongue sachant qu'il souhaite une répartition des cours plus étalée sur l'année scolaire.  \\nEn donner une valeur arrondie à  10−4. \\n \\n5. Les événements 𝐿 et 𝐶 sont -ils indépendants ? Justifier la réponse.  \\nG1SSMAT02636\\nG1SSMAT02636G1SSMAT02636\", 'metadata': {'source': '/content/drive/My Drive/RAGfrances/SPÉCIALITÉ MATHÉMATIQUES/G1SSMAT02636-mathg-35311-1058 (1)_modified.pdf', 'page': 1, 'directory': 'SPÉCIALITÉ MATHÉMATIQUES'}}\n"
          ]
        }
      ]
    },
    {
      "cell_type": "code",
      "source": [
        "from elasticsearch import Elasticsearch\n",
        "\n",
        "\n",
        "# Definir el índice\n",
        "INDEX_NAME = \"general_texts\"\n",
        "\n",
        "# Definir la especialidad a buscar\n",
        "directory_selected = \"Spécialité Numérique et Sciences Informatiques Bac Général\"\n",
        "\n",
        "# Definir y ejecutar la consulta con 'match'\n",
        "search_query_match = {\n",
        "    \"query\": {\n",
        "        \"match\": {\n",
        "            \"metadata.directory\": directory_selected\n",
        "        }\n",
        "    },\n",
        "    \"size\": 10  # Limitar el número de documentos a recuperar\n",
        "}\n",
        "\n",
        "response_match = es.search(index=INDEX_NAME, body=search_query_match)\n",
        "\n",
        "print(\"Resultados de la búsqueda con 'match':\")\n",
        "for hit in response_match['hits']['hits']:\n",
        "    print(hit['_source'])\n",
        "\n",
        "# Definir y ejecutar la consulta con 'wildcard'\n",
        "search_query_wildcard = {\n",
        "    \"query\": {\n",
        "        \"wildcard\": {\n",
        "            \"metadata.directory.keyword\": \"Spécialité Numérique et Sciences Informatiques Bac Général\"\n",
        "        }\n",
        "    },\n",
        "    \"size\": 10  # Limitar el número de documentos a recuperar\n",
        "}\n",
        "\n",
        "response_wildcard = es.search(index=INDEX_NAME, body=search_query_wildcard)\n",
        "\n",
        "print(\"\\nResultados de la búsqueda con 'wildcard':\")\n",
        "for hit in response_wildcard['hits']['hits']:\n",
        "    print(hit['_source'])\n",
        "\n",
        "# Definir y ejecutar la consulta con 'term'\n",
        "search_query_term = {\n",
        "    \"query\": {\n",
        "        \"term\": {\n",
        "            \"metadata.directory.keyword\": directory_selected\n",
        "        }\n",
        "    },\n",
        "    \"size\": 10  # Limitar el número de documentos a recuperar\n",
        "}\n",
        "\n",
        "response_term = es.search(index=INDEX_NAME, body=search_query_term)\n",
        "\n",
        "print(\"\\nResultados de la búsqueda con 'term':\")\n",
        "for hit in response_term['hits']['hits']:\n",
        "    print(hit['_source'])"
      ],
      "metadata": {
        "colab": {
          "base_uri": "https://localhost:8080/"
        },
        "id": "3HemVDsI_Jw6",
        "outputId": "59524bfe-2c8b-41d6-f5f7-cfc9aa902d05"
      },
      "execution_count": 6,
      "outputs": [
        {
          "output_type": "stream",
          "name": "stdout",
          "text": [
            "Resultados de la búsqueda con 'match':\n",
            "{'content': ' \\nPage 2 sur 19 \\n \\n  \\nSPENSI7', 'metadata': {'source': '/content/drive/My Drive/RAGfrances/Spécialité Numérique et Sciences Informatiques Bac Général/sujet7_modified.pdf', 'page': 0, 'directory': 'Spécialité Numérique et Sciences Informatiques Bac Général'}}\n",
            "{'content': \" \\nPage 3 sur 19 \\n \\nThème A : types de base \\nRéponse à la question 1 A \\xa0 B \\xa0 C \\xa0 D \\xa0 \\nRéponse à la question 2 A \\xa0 B \\xa0 C \\xa0 D \\xa0 \\nRéponse à la question 3 A \\xa0 B \\xa0 C \\xa0 D \\xa0 \\nRéponse à la question 4 A \\xa0 B \\xa0 C \\xa0 D \\xa0 \\nRéponse à la question 5 A \\xa0 B \\xa0 C \\xa0 D \\xa0 \\nRéponse à la question 6 A \\xa0 B \\xa0 C \\xa0 D \\xa0 \\nThème B : types construits \\nRéponse à la question 1 A \\xa0 B \\xa0 C \\xa0 D \\xa0 \\nRéponse à la question 2 A \\xa0 B \\xa0 C \\xa0 D \\xa0 \\nRéponse à la question 3 A \\xa0 B \\xa0 C \\xa0 D \\xa0 \\nRéponse à la question 4 A \\xa0 B \\xa0 C \\xa0 D \\xa0 \\nRéponse à la question 5 A \\xa0 B \\xa0 C \\xa0 D \\xa0 \\nRéponse à la question 6 A \\xa0 B \\xa0 C \\xa0 D \\xa0 \\nThème C : traitement de données en tables \\nRéponse à la question 1 A \\xa0 B \\xa0 C \\xa0 D \\xa0 \\nRéponse à la question 2 A \\xa0 B \\xa0 C \\xa0 D \\xa0 \\nRéponse à la question 3 A \\xa0 B \\xa0 C \\xa0 D \\xa0 \\nRéponse à la question 4 A \\xa0 B \\xa0 C \\xa0 D \\xa0 \\nRéponse à la question 5 A \\xa0 B \\xa0 C \\xa0 D \\xa0 \\nRéponse à la question 6 A \\xa0 B \\xa0 C \\xa0 D \\xa0 \\nThème D : interactions entre l'homme et la machine sur le Web \\nRéponse à la question 1 A \\xa0 B \\xa0 C \\xa0 D \\xa0 \\nRéponse à la question 2 A \\xa0 B \\xa0 C \\xa0 D \\xa0 \\nRéponse à la question 3 A \\xa0 B \\xa0 C \\xa0 D \\xa0 \\nRéponse à la question 4 A \\xa0 B \\xa0 C \\xa0 D \\xa0 \\nRéponse à la question 5 A \\xa0 B \\xa0 C \\xa0 D \\xa0 \\nRéponse à la question 6 A \\xa0 B \\xa0 C \\xa0 D \\xa0 \\n \\n \\n \\n \\n \\nSPENSI7\", 'metadata': {'source': '/content/drive/My Drive/RAGfrances/Spécialité Numérique et Sciences Informatiques Bac Général/sujet7_modified.pdf', 'page': 1, 'directory': 'Spécialité Numérique et Sciences Informatiques Bac Général'}}\n",
            "{'content': \" \\nPage 4 sur 19 \\nThème E : architectures matérielles et systèmes d'exploitation \\nRéponse à la question 1 A \\xa0 B \\xa0 C \\xa0 D \\xa0 \\nRéponse à la question 2 A \\xa0 B \\xa0 C \\xa0 D \\xa0 \\nRéponse à la question 3 A \\xa0 B \\xa0 C \\xa0 D \\xa0 \\nRéponse à la question 4 A \\xa0 B \\xa0 C \\xa0 D \\xa0 \\nRéponse à la question 5 A \\xa0 B \\xa0 C \\xa0 D \\xa0 \\nRéponse à la question 6 A \\xa0 B \\xa0 C \\xa0 D \\xa0 \\nThème F : langages et programmation \\nRéponse à la question 1 A \\xa0 B \\xa0 C \\xa0 D \\xa0 \\nRéponse à la question 2 A \\xa0 B \\xa0 C \\xa0 D \\xa0 \\nRéponse à la question 3 A \\xa0 B \\xa0 C \\xa0 D \\xa0 \\nRéponse à la question 4 A \\xa0 B \\xa0 C \\xa0 D \\xa0 \\nRéponse à la question 5 A \\xa0 B \\xa0 C \\xa0 D \\xa0 \\nRéponse à la question 6 A \\xa0 B \\xa0 C \\xa0 D \\xa0 \\nThème G : algorithmique \\nRéponse à la question 1 A \\xa0 B \\xa0 C \\xa0 D \\xa0 \\nRéponse à la question 2 A \\xa0 B \\xa0 C \\xa0 D \\xa0 \\nRéponse à la question 3 A \\xa0 B \\xa0 C \\xa0 D \\xa0 \\nRéponse à la question 4 A \\xa0 B \\xa0 C \\xa0 D \\xa0 \\nRéponse à la question 5 A \\xa0 B \\xa0 C \\xa0 D \\xa0 \\nRéponse à la question 6 A \\xa0 B \\xa0 C \\xa0 D \\xa0 \\n \\n  \\nSPENSI7\", 'metadata': {'source': '/content/drive/My Drive/RAGfrances/Spécialité Numérique et Sciences Informatiques Bac Général/sujet7_modified.pdf', 'page': 2, 'directory': 'Spécialité Numérique et Sciences Informatiques Bac Général'}}\n",
            "{'content': \" \\nPage 5 sur 19 \\n \\n \\n \\nThème A : types de base \\nQuestion A 1  \\nQuel est le plus grand entier positif que l'on peut coder sur un mot de 16 bits ? \\nRéponses \\nA 2ଵହ−1 = 32767  \\nB 2ଵହ= 32768  \\nC 2ଵ\\u0b3a−1 = 65535  \\nD 2ଵ\\u0b3a= 65536  \\n \\nQuestion A 2  \\nCombien de bits sont nécessaires pour représenter le nombre 15 en binaire ? \\nRéponses \\nA 2 \\nB 3 \\nC  4 \\nD 5 \\nQuestion A 3  \\nLe codage d’une couleur se fait à l'aide de trois nombres compris chacun, en écriture décimale, entre 0 et 255 \\n(code RVB). \\nLa couleur « vert impérial » est codée, en écriture décimale, par (0, 86, 27). \\nLe codage hexadécimal correspondant est : \\nRéponses \\nA (0, 134, 39)  \\nB (0, 134, 1B)  \\nC (0, 56, 1B)  \\nD (0, 56, 39)  \\n \\nQuestion A 4  \\nDeux entiers positifs ont pour écriture en base 16 :  A7 et 84. \\nQuelle est l'écriture en base 16 de leur somme ? \\nRéponses \\nA 1811 \\nB 12B \\nC 13A \\nD A784 \\n \\nQuestion A 5  \\nQuelle est la représentation hexadécimale de l'entier qui s'écrit 106 en base 10 ? \\nSPENSI7\", 'metadata': {'source': '/content/drive/My Drive/RAGfrances/Spécialité Numérique et Sciences Informatiques Bac Général/sujet7_modified.pdf', 'page': 3, 'directory': 'Spécialité Numérique et Sciences Informatiques Bac Général'}}\n",
            "{'content': ' \\nPage 6 sur 19 \\nRéponses \\nA 6A \\nB A6 \\nC 64 \\nD 46 \\n \\nQuestion A 6  \\nQuelle est la valeur de l’entier négatif –42 codé en complément à deux sur un octet (8 bits) ? \\nRéponses \\nA –0010 1010  \\nB 0010 1010 \\nC 1101 0101 \\nD 1101 0110 \\n \\n  \\nSPENSI7', 'metadata': {'source': '/content/drive/My Drive/RAGfrances/Spécialité Numérique et Sciences Informatiques Bac Général/sujet7_modified.pdf', 'page': 4, 'directory': 'Spécialité Numérique et Sciences Informatiques Bac Général'}}\n",
            "{'content': ' \\nPage 7 sur 19 \\n \\nThème B : types construits \\nQuestion B 1  \\nOn définit : \\nL = [ [\"lundi\",10,0.87], [\"mardi\",11,0.82], [\"mercredi\",12,0.91] ] \\nQuel est le type de la variable a définie par a = L[1][2]  ? \\nRéponses \\nA nombre entier \\nB liste  \\nC nombre flottant \\nD chaîne de caractères  \\n \\nQuestion B 2  \\nOn exécute le script suivant. \\nm = [] \\nfor i in range(5): \\n n = [] \\n for j in range(3): \\n  n.append(i*j) \\n m.append(n) \\nQuelle est la valeur de m à la fin de son exécution ?  \\nRéponses \\nA [ [0, 0, 0, 0, 0], [0, 1, 2, 3, 4], [0, 2, 4, 6, 8] ] \\nB [ [0, 0, 0], [0, 1, 2], [0, 2, 4], [0, 3, 6], [0, 4, 8] ]  \\nC [ [1, 1, 1], [2, 4, 6], [3, 6, 9], [4, 8, 12], [5, 10, 15] ] \\nD [ [1, 1, 1, 1, 1], [2, 4, 6, 8, 10], [3, 6, 9, 12, 15], [4, 8, 12, 16, 20], [5, 10, \\n15, 20, 25] ] \\n \\nQuestion B 3  \\nOn définit : \\nresultat = [ i*2 for i in range(10) ]  \\nQuelle est la valeur de resultat  ? \\nRéponses \\nA [0, 1, 2, 3, 4, 5, 6, 7, 8, 9]  \\nB [0, 2, 4, 6, 8, 10, 12, 14, 16, 18]  \\nC [0, 2, 4, 6, 8, 10, 12, 14, 16, 18, 20] \\nD [2, 4, 6, 8, 10, 12, 14, 16, 18] \\n \\nQuestion B 4  \\nOn exécute le script suivant :  \\ninventaire = {\\'pommes\\': 430, \\'bananes\\': 312, \\n              \\'oranges\\' : 274, \\'poires\\' : 137} \\n \\nstock = 0 \\nfor fruit in inventaire.keys(): \\n    if fruit != \\'bananes\\': \\n        stock = stock + inventaire[fruit] \\nSPENSI7', 'metadata': {'source': '/content/drive/My Drive/RAGfrances/Spécialité Numérique et Sciences Informatiques Bac Général/sujet7_modified.pdf', 'page': 5, 'directory': 'Spécialité Numérique et Sciences Informatiques Bac Général'}}\n",
            "{'content': \" \\nPage 8 sur 19 \\nQue contient la variable stock à la fin de cette exécution ? \\nRéponses \\nA {430, 274, 137}  \\nB 312 \\nC 841 \\nD { 'pommes', 'oranges', 'poires' }  \\n \\nQuestion B 5  \\nOn définit : matrice = [[1,2,3], [4,5,6], [7,8,9], [10,11,12]] . \\nQuelle est la valeur de matrice[1][2]  ? \\nRéponses \\nA 2 \\nB 4 \\nC 6 \\nD 8 \\n \\nQuestion B 6  \\nOn définit la liste L ainsi : \\nL = [ [1], [1, 2], [1, 2, 3]] \\nDes égalités suivantes, une seule est fausse. Laquelle ? \\nRéponses \\nA len(L[0]) == 1  \\nB len(L) == 6  \\nC len(L[2]) == 3  \\nD L[2][2] == 3  \\n \\n  \\nSPENSI7\", 'metadata': {'source': '/content/drive/My Drive/RAGfrances/Spécialité Numérique et Sciences Informatiques Bac Général/sujet7_modified.pdf', 'page': 6, 'directory': 'Spécialité Numérique et Sciences Informatiques Bac Général'}}\n",
            "{'content': ' \\nPage 9 sur 19 \\n \\nThème C : traitement de données en tables \\nQuestion C 1  \\nQu\\'est-ce que le CSV ? \\nRéponses \\nA Un langage de programmation \\nB Un format de fichier permettant de stocker de l’information \\nC  Un algorithme permettant de rechercher une information dans un fichier \\nD Un format de fichier permettant de définir le style d’une page web \\n \\nQuestion C 2  \\nOn définit la variable suivante : lettres = {\"a\": 1, \"b\": 2, \"c\": 3} . \\nQuelle est la valeur de l\\'expression list(lettres.keys()) ? \\nRéponses \\nA [a,b,c] \\nB [1,2,3] \\nC [\"a\",\"b\",\"c\"] \\nD {\"a\": 1, \"b\": 2, \"c\": 3} \\n \\nQuestion C 3  \\nOn définit la fonction suivante qui prend en argument un tableau non vide d\\'entiers. \\ndef f(T): \\n     s = 0 \\n    for k in T: \\n        if k == 8: \\n            s = s+1 \\n    if s > 1: \\n        return True \\n    else: \\n        return False \\nDans quel cas cette fonction renvoie-t-elle la valeur True ? \\nRéponses \\nA dans le cas où 8 est présent au moins une fois dans le tableau T \\nB dans le cas où 8 est présent au moins deux fois dans le tableau T \\nC dans le cas où 8 est présent exactement une fois dans le tableau T \\nD dans le cas où 8 est présent exactement deux fois dans le tableau T \\n \\nQuestion C 4  \\nOn considère l’extraction suivante d\\'une base de données des départements français. Cette extraction a \\nensuite été sauvegardée dans un fichier texte. \\n\"1\",\"01\",\"Ain\",\"AIN\",\"ain\",\"A500\" \\n\"2\",\"02\",\"Aisne\",\"AISNE\",\"aisne\",\"A250\" \\n\"3\",\"03\",\"Allier\",\"ALLIER\",\"allier\",\"A460\" \\n\"4\",\"04\",\"Alpes-de-Haute-Provence\",\"ALPES-DE-HAUTE-PROVENCE\",\"alpes-de-haute-\\nprovence\",\"A412316152\" \\n\"5\",\"05\",\"Hautes-Alpes\",\"HAUTES-ALPES\",\"hautes-alpes\",\"H32412\" \\nQuel est le format de ce fichier ? \\nSPENSI7', 'metadata': {'source': '/content/drive/My Drive/RAGfrances/Spécialité Numérique et Sciences Informatiques Bac Général/sujet7_modified.pdf', 'page': 7, 'directory': 'Spécialité Numérique et Sciences Informatiques Bac Général'}}\n",
            "{'content': \" \\nPage 10 sur 19 \\nRéponses \\nA YML \\nB XML \\nC CSV \\nD JSON \\n \\nQuestion C 5  \\nOn considère la table suivante :   \\nt = [ {'type': 'marteau', 'prix': 17, 'quantité': 32}, \\n  {'type': 'scie', 'prix': 24, 'quantité': 3}, \\n  {'type': 'tournevis', 'prix': 8, 'quantité': 45} ] \\nQuelle expression permet d'obtenir la quantité de scies ? \\nRéponses \\nA t[2]['quantité']  \\nB t[1]['quantité'] \\nC t['quantité'][1] \\nD t['scies']['quantité'] \\n \\nQuestion C 6  \\nOn définit ainsi une liste t :  \\nt = [ {'id':1, 'age':23, 'sejour':'PEKIN'}, \\n      {'id':2, 'age':27, 'sejour':'ISTANBUL'}, \\n      {'id':3, 'age':53, 'sejour':'LONDRES'}, \\n      {'id':4, 'age':41, 'sejour':'ISTANBUL'}, \\n      {'id':5, 'age':62, 'sejour':'RIO'}, \\n      {'id':6, 'age':28, 'sejour':'ALGER'}] \\nQuelle affirmation est correcte ? \\nRéponses \\nA t est une liste de listes \\nB t est une liste de dictionnaires \\nC t est un dictionnaire de listes \\nD t est une liste de tuples \\n \\n  \\nSPENSI7\", 'metadata': {'source': '/content/drive/My Drive/RAGfrances/Spécialité Numérique et Sciences Informatiques Bac Général/sujet7_modified.pdf', 'page': 8, 'directory': 'Spécialité Numérique et Sciences Informatiques Bac Général'}}\n",
            "{'content': ' \\nPage 11 sur 19 \\n \\nThème D : interactions entre l\\'homme et la machine sur le Web \\nQuestion D 1  \\nUn élément form (un formulaire) d\\'une page HTML contient un élément button de type submit. Un clic sur ce \\nbouton : \\nRéponses \\nA envoie les données du formulaire vers la page définie par l\\'attribut action de l\\'élément form \\nB efface les données entrées par l\\'utilisateur dans le formulaire \\nC envoie les données du formulaire vers la page définie par l\\'attribut method de l\\'élément form \\nD ne fait rien du tout si un script Javascript n\\'est pas associé au bouton \\n \\n \\nQuestion D 2  \\nUn élève a écrit une fonction Javascript qui détermine la moyenne des valeurs entrées par l\\'utilisateur dans un \\nformulaire de sa page HTML. \\nIl place sa fonction Javascript :  \\nRéponses \\nA entre la balise <js> et la balise </js> \\nB entre la balise <code> et la balise </code> \\nC entre la balise <script>  et la balise </script>  \\nD entre la balise <javascript>  et la balise </javascript>  \\n \\nQuestion D 3  \\nParmi les balises HTML ci-dessous quelle est celle qui permet à l’utilisateur de saisir son nom dans un \\nformulaire en respectant la norme HTML ? \\nRéponses \\nA <select />  \\nB <form />  \\nC <input type=\"text\" />  \\nD <input type=\"name\" /> \\n \\nQuestion D 4  \\nParmi les réponses suivantes, que permet d’effectuer la méthode POST du protocole HTTP ? \\nRéponses \\nA Définir le style d’une page web \\nB Pirater des données bancaire \\nC  Envoyer une page web vers le client \\nD Envoyer les données saisies dans un formulaire HTML vers un serveur \\n \\nQuestion D 5  \\nDans le code HTML les délimiteurs tels que <body> et </body> s’appellent ? \\nRéponses \\nA des bornes \\nB des balises \\nC des paragraphes \\nD des liens \\n \\nSPENSI7', 'metadata': {'source': '/content/drive/My Drive/RAGfrances/Spécialité Numérique et Sciences Informatiques Bac Général/sujet7_modified.pdf', 'page': 9, 'directory': 'Spécialité Numérique et Sciences Informatiques Bac Général'}}\n",
            "\n",
            "Resultados de la búsqueda con 'wildcard':\n",
            "\n",
            "Resultados de la búsqueda con 'term':\n"
          ]
        }
      ]
    },
    {
      "cell_type": "code",
      "source": [
        "Spécialité Numérique et Sciences Informatiques Bac Général"
      ],
      "metadata": {
        "id": "YkqBMrSN_F_M"
      },
      "execution_count": null,
      "outputs": []
    },
    {
      "cell_type": "code",
      "source": [
        "pip install elasticsearch"
      ],
      "metadata": {
        "colab": {
          "base_uri": "https://localhost:8080/"
        },
        "id": "VpIG7_g0-nDU",
        "outputId": "cefd136d-0484-4410-cfe0-d314e9df327b"
      },
      "execution_count": 1,
      "outputs": [
        {
          "output_type": "stream",
          "name": "stdout",
          "text": [
            "Collecting elasticsearch\n",
            "  Downloading elasticsearch-8.14.0-py3-none-any.whl (480 kB)\n",
            "\u001b[2K     \u001b[90m━━━━━━━━━━━━━━━━━━━━━━━━━━━━━━━━━━━━━━━━\u001b[0m \u001b[32m480.2/480.2 kB\u001b[0m \u001b[31m2.9 MB/s\u001b[0m eta \u001b[36m0:00:00\u001b[0m\n",
            "\u001b[?25hCollecting elastic-transport<9,>=8.13 (from elasticsearch)\n",
            "  Downloading elastic_transport-8.13.1-py3-none-any.whl (64 kB)\n",
            "\u001b[2K     \u001b[90m━━━━━━━━━━━━━━━━━━━━━━━━━━━━━━━━━━━━━━━━\u001b[0m \u001b[32m64.5/64.5 kB\u001b[0m \u001b[31m2.8 MB/s\u001b[0m eta \u001b[36m0:00:00\u001b[0m\n",
            "\u001b[?25hRequirement already satisfied: urllib3<3,>=1.26.2 in /usr/local/lib/python3.10/dist-packages (from elastic-transport<9,>=8.13->elasticsearch) (2.0.7)\n",
            "Requirement already satisfied: certifi in /usr/local/lib/python3.10/dist-packages (from elastic-transport<9,>=8.13->elasticsearch) (2024.6.2)\n",
            "Installing collected packages: elastic-transport, elasticsearch\n",
            "Successfully installed elastic-transport-8.13.1 elasticsearch-8.14.0\n"
          ]
        }
      ]
    }
  ]
}